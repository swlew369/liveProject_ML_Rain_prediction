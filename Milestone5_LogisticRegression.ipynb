{
 "cells": [
  {
   "cell_type": "code",
   "execution_count": 1,
   "metadata": {},
   "outputs": [],
   "source": [
    "import pandas as pd\n",
    "import numpy as np\n",
    "import seaborn as sns\n",
    "import matplotlib.pyplot as plt\n",
    "import time\n",
    "import datetime\n",
    "from scipy import stats\n",
    "import re\n",
    "import nltk\n",
    "import math\n",
    "import pickle\n",
    "import statsmodels as sm\n",
    "\n",
    "from sklearn import svm\n",
    "from sklearn.preprocessing import StandardScaler\n",
    "from sklearn.model_selection import train_test_split, GridSearchCV\n",
    "from sklearn.tree import DecisionTreeClassifier\n",
    "from sklearn.linear_model import LogisticRegression\n",
    "from sklearn.neighbors import KNeighborsClassifier\n",
    "from sklearn.ensemble import RandomForestClassifier\n",
    "from nltk.corpus import stopwords\n",
    "from sklearn.feature_extraction.text import TfidfVectorizer\n",
    "from sklearn.feature_extraction.text import CountVectorizer\n",
    "import sklearn.metrics\n",
    "from sklearn.metrics import confusion_matrix\n",
    "from sklearn.metrics import classification_report\n",
    "from sklearn.metrics import roc_curve, auc\n",
    "from sklearn.model_selection import cross_val_score, cross_val_predict,KFold\n",
    "from sklearn.metrics import roc_auc_score\n",
    "\n",
    "\n",
    "from sklearn.preprocessing import StandardScaler, MinMaxScaler\n",
    "from sklearn.model_selection import train_test_split\n",
    "\n",
    "%matplotlib inline"
   ]
  },
  {
   "cell_type": "markdown",
   "metadata": {},
   "source": [
    "### Develop a logistic regression model to predict whether or not it will rain tomorrow."
   ]
  },
  {
   "cell_type": "code",
   "execution_count": 2,
   "metadata": {},
   "outputs": [],
   "source": [
    "#df = pd.read_csv('weather_AUS_cleaned.csv')\n",
    "df = pd.read_csv('weather_AUS_cleaned-2.csv')"
   ]
  },
  {
   "cell_type": "code",
   "execution_count": 3,
   "metadata": {},
   "outputs": [
    {
     "data": {
      "text/plain": [
       "(131584, 293)"
      ]
     },
     "execution_count": 3,
     "metadata": {},
     "output_type": "execute_result"
    }
   ],
   "source": [
    "df.shape"
   ]
  },
  {
   "cell_type": "code",
   "execution_count": 4,
   "metadata": {},
   "outputs": [
    {
     "data": {
      "text/plain": [
       "MinTemp            float64\n",
       "MaxTemp            float64\n",
       "Rainfall           float64\n",
       "Evaporation        float64\n",
       "Sunshine           float64\n",
       "WindGustSpeed      float64\n",
       "WindSpeed9am       float64\n",
       "WindSpeed3pm       float64\n",
       "Humidity9am        float64\n",
       "Humidity3pm        float64\n",
       "Pressure9am        float64\n",
       "Pressure3pm        float64\n",
       "Cloud9am           float64\n",
       "Cloud3pm           float64\n",
       "Temp9am            float64\n",
       "Temp3pm            float64\n",
       "RainTomorrow         int64\n",
       "month                int64\n",
       "day                  int64\n",
       "year                 int64\n",
       "MinTemp_IQR        float64\n",
       "MinTemp_lower      float64\n",
       "MinTemp_upper      float64\n",
       "MaxTemp_IQR        float64\n",
       "MaxTemp_lower      float64\n",
       "MaxTemp_upper      float64\n",
       "Rainfall_IQR       float64\n",
       "Rainfall_lower     float64\n",
       "Rainfall_upper     float64\n",
       "Evaporation_IQR    float64\n",
       "                    ...   \n",
       "WindDir9am_ENE       int64\n",
       "WindDir9am_ESE       int64\n",
       "WindDir9am_N         int64\n",
       "WindDir9am_NE        int64\n",
       "WindDir9am_NNE       int64\n",
       "WindDir9am_NNW       int64\n",
       "WindDir9am_NW        int64\n",
       "WindDir9am_S         int64\n",
       "WindDir9am_SE        int64\n",
       "WindDir9am_SSE       int64\n",
       "WindDir9am_SSW       int64\n",
       "WindDir9am_SW        int64\n",
       "WindDir9am_W         int64\n",
       "WindDir9am_WNW       int64\n",
       "WindDir9am_WSW       int64\n",
       "WindDir3pm_ENE       int64\n",
       "WindDir3pm_ESE       int64\n",
       "WindDir3pm_N         int64\n",
       "WindDir3pm_NE        int64\n",
       "WindDir3pm_NNE       int64\n",
       "WindDir3pm_NNW       int64\n",
       "WindDir3pm_NW        int64\n",
       "WindDir3pm_S         int64\n",
       "WindDir3pm_SE        int64\n",
       "WindDir3pm_SSE       int64\n",
       "WindDir3pm_SSW       int64\n",
       "WindDir3pm_SW        int64\n",
       "WindDir3pm_W         int64\n",
       "WindDir3pm_WNW       int64\n",
       "WindDir3pm_WSW       int64\n",
       "Length: 293, dtype: object"
      ]
     },
     "execution_count": 4,
     "metadata": {},
     "output_type": "execute_result"
    }
   ],
   "source": [
    "df.dtypes"
   ]
  },
  {
   "cell_type": "code",
   "execution_count": 5,
   "metadata": {},
   "outputs": [
    {
     "data": {
      "text/html": [
       "<div>\n",
       "<style scoped>\n",
       "    .dataframe tbody tr th:only-of-type {\n",
       "        vertical-align: middle;\n",
       "    }\n",
       "\n",
       "    .dataframe tbody tr th {\n",
       "        vertical-align: top;\n",
       "    }\n",
       "\n",
       "    .dataframe thead th {\n",
       "        text-align: right;\n",
       "    }\n",
       "</style>\n",
       "<table border=\"1\" class=\"dataframe\">\n",
       "  <thead>\n",
       "    <tr style=\"text-align: right;\">\n",
       "      <th></th>\n",
       "      <th>MinTemp</th>\n",
       "      <th>MaxTemp</th>\n",
       "      <th>Rainfall</th>\n",
       "      <th>Evaporation</th>\n",
       "      <th>Sunshine</th>\n",
       "      <th>WindGustSpeed</th>\n",
       "      <th>WindSpeed9am</th>\n",
       "      <th>WindSpeed3pm</th>\n",
       "      <th>Humidity9am</th>\n",
       "      <th>Humidity3pm</th>\n",
       "      <th>...</th>\n",
       "      <th>WindDir3pm_NNW</th>\n",
       "      <th>WindDir3pm_NW</th>\n",
       "      <th>WindDir3pm_S</th>\n",
       "      <th>WindDir3pm_SE</th>\n",
       "      <th>WindDir3pm_SSE</th>\n",
       "      <th>WindDir3pm_SSW</th>\n",
       "      <th>WindDir3pm_SW</th>\n",
       "      <th>WindDir3pm_W</th>\n",
       "      <th>WindDir3pm_WNW</th>\n",
       "      <th>WindDir3pm_WSW</th>\n",
       "    </tr>\n",
       "  </thead>\n",
       "  <tbody>\n",
       "    <tr>\n",
       "      <th>0</th>\n",
       "      <td>0.598361</td>\n",
       "      <td>0.600000</td>\n",
       "      <td>0.025862</td>\n",
       "      <td>0.41426</td>\n",
       "      <td>0.524909</td>\n",
       "      <td>0.569231</td>\n",
       "      <td>0.571429</td>\n",
       "      <td>0.615385</td>\n",
       "      <td>0.707071</td>\n",
       "      <td>0.212121</td>\n",
       "      <td>...</td>\n",
       "      <td>0</td>\n",
       "      <td>0</td>\n",
       "      <td>0</td>\n",
       "      <td>0</td>\n",
       "      <td>0</td>\n",
       "      <td>0</td>\n",
       "      <td>0</td>\n",
       "      <td>0</td>\n",
       "      <td>1</td>\n",
       "      <td>0</td>\n",
       "    </tr>\n",
       "    <tr>\n",
       "      <th>1</th>\n",
       "      <td>0.434426</td>\n",
       "      <td>0.648889</td>\n",
       "      <td>0.000000</td>\n",
       "      <td>0.41426</td>\n",
       "      <td>0.524909</td>\n",
       "      <td>0.569231</td>\n",
       "      <td>0.114286</td>\n",
       "      <td>0.564103</td>\n",
       "      <td>0.434343</td>\n",
       "      <td>0.242424</td>\n",
       "      <td>...</td>\n",
       "      <td>0</td>\n",
       "      <td>0</td>\n",
       "      <td>0</td>\n",
       "      <td>0</td>\n",
       "      <td>0</td>\n",
       "      <td>0</td>\n",
       "      <td>0</td>\n",
       "      <td>0</td>\n",
       "      <td>0</td>\n",
       "      <td>1</td>\n",
       "    </tr>\n",
       "    <tr>\n",
       "      <th>2</th>\n",
       "      <td>0.584699</td>\n",
       "      <td>0.662222</td>\n",
       "      <td>0.000000</td>\n",
       "      <td>0.41426</td>\n",
       "      <td>0.524909</td>\n",
       "      <td>0.600000</td>\n",
       "      <td>0.542857</td>\n",
       "      <td>0.666667</td>\n",
       "      <td>0.373737</td>\n",
       "      <td>0.292929</td>\n",
       "      <td>...</td>\n",
       "      <td>0</td>\n",
       "      <td>0</td>\n",
       "      <td>0</td>\n",
       "      <td>0</td>\n",
       "      <td>0</td>\n",
       "      <td>0</td>\n",
       "      <td>0</td>\n",
       "      <td>0</td>\n",
       "      <td>0</td>\n",
       "      <td>1</td>\n",
       "    </tr>\n",
       "    <tr>\n",
       "      <th>3</th>\n",
       "      <td>0.483607</td>\n",
       "      <td>0.713333</td>\n",
       "      <td>0.000000</td>\n",
       "      <td>0.41426</td>\n",
       "      <td>0.524909</td>\n",
       "      <td>0.261538</td>\n",
       "      <td>0.314286</td>\n",
       "      <td>0.230769</td>\n",
       "      <td>0.444444</td>\n",
       "      <td>0.151515</td>\n",
       "      <td>...</td>\n",
       "      <td>0</td>\n",
       "      <td>0</td>\n",
       "      <td>0</td>\n",
       "      <td>0</td>\n",
       "      <td>0</td>\n",
       "      <td>0</td>\n",
       "      <td>0</td>\n",
       "      <td>0</td>\n",
       "      <td>0</td>\n",
       "      <td>0</td>\n",
       "    </tr>\n",
       "    <tr>\n",
       "      <th>4</th>\n",
       "      <td>0.710383</td>\n",
       "      <td>0.808889</td>\n",
       "      <td>0.043103</td>\n",
       "      <td>0.41426</td>\n",
       "      <td>0.524909</td>\n",
       "      <td>0.523077</td>\n",
       "      <td>0.200000</td>\n",
       "      <td>0.512821</td>\n",
       "      <td>0.818182</td>\n",
       "      <td>0.323232</td>\n",
       "      <td>...</td>\n",
       "      <td>0</td>\n",
       "      <td>1</td>\n",
       "      <td>0</td>\n",
       "      <td>0</td>\n",
       "      <td>0</td>\n",
       "      <td>0</td>\n",
       "      <td>0</td>\n",
       "      <td>0</td>\n",
       "      <td>0</td>\n",
       "      <td>0</td>\n",
       "    </tr>\n",
       "  </tbody>\n",
       "</table>\n",
       "<p>5 rows × 293 columns</p>\n",
       "</div>"
      ],
      "text/plain": [
       "    MinTemp   MaxTemp  Rainfall  Evaporation  Sunshine  WindGustSpeed  \\\n",
       "0  0.598361  0.600000  0.025862      0.41426  0.524909       0.569231   \n",
       "1  0.434426  0.648889  0.000000      0.41426  0.524909       0.569231   \n",
       "2  0.584699  0.662222  0.000000      0.41426  0.524909       0.600000   \n",
       "3  0.483607  0.713333  0.000000      0.41426  0.524909       0.261538   \n",
       "4  0.710383  0.808889  0.043103      0.41426  0.524909       0.523077   \n",
       "\n",
       "   WindSpeed9am  WindSpeed3pm  Humidity9am  Humidity3pm       ...        \\\n",
       "0      0.571429      0.615385     0.707071     0.212121       ...         \n",
       "1      0.114286      0.564103     0.434343     0.242424       ...         \n",
       "2      0.542857      0.666667     0.373737     0.292929       ...         \n",
       "3      0.314286      0.230769     0.444444     0.151515       ...         \n",
       "4      0.200000      0.512821     0.818182     0.323232       ...         \n",
       "\n",
       "   WindDir3pm_NNW  WindDir3pm_NW  WindDir3pm_S  WindDir3pm_SE  WindDir3pm_SSE  \\\n",
       "0               0              0             0              0               0   \n",
       "1               0              0             0              0               0   \n",
       "2               0              0             0              0               0   \n",
       "3               0              0             0              0               0   \n",
       "4               0              1             0              0               0   \n",
       "\n",
       "   WindDir3pm_SSW  WindDir3pm_SW  WindDir3pm_W  WindDir3pm_WNW  WindDir3pm_WSW  \n",
       "0               0              0             0               1               0  \n",
       "1               0              0             0               0               1  \n",
       "2               0              0             0               0               1  \n",
       "3               0              0             0               0               0  \n",
       "4               0              0             0               0               0  \n",
       "\n",
       "[5 rows x 293 columns]"
      ]
     },
     "execution_count": 5,
     "metadata": {},
     "output_type": "execute_result"
    }
   ],
   "source": [
    "df.head()"
   ]
  },
  {
   "cell_type": "code",
   "execution_count": 6,
   "metadata": {},
   "outputs": [
    {
     "name": "stdout",
     "output_type": "stream",
     "text": [
      "(131584, 292)\n",
      "\n",
      "(131584,)\n"
     ]
    }
   ],
   "source": [
    "# create features data,X , to predict the target, RainTomorrow\n",
    "# X = df.drop(['RainTomorrow'],axis=1).values\n",
    "# y = df['RainTomorrow'].values\n",
    "\n",
    "X = df.drop(['RainTomorrow'],axis=1)\n",
    "y = df['RainTomorrow']\n",
    "\n",
    "print(X.shape)\n",
    "print()\n",
    "print(y.shape)"
   ]
  },
  {
   "cell_type": "code",
   "execution_count": 7,
   "metadata": {},
   "outputs": [
    {
     "name": "stdout",
     "output_type": "stream",
     "text": [
      "False\n"
     ]
    }
   ],
   "source": [
    "print('RainTomorrow' in X.columns)"
   ]
  },
  {
   "cell_type": "code",
   "execution_count": 8,
   "metadata": {},
   "outputs": [
    {
     "data": {
      "text/plain": [
       "0    104586\n",
       "1     26998\n",
       "Name: RainTomorrow, dtype: int64"
      ]
     },
     "execution_count": 8,
     "metadata": {},
     "output_type": "execute_result"
    }
   ],
   "source": [
    "y.value_counts()"
   ]
  },
  {
   "cell_type": "code",
   "execution_count": 9,
   "metadata": {},
   "outputs": [
    {
     "name": "stdout",
     "output_type": "stream",
     "text": [
      "(105267, 292)\n",
      "\n",
      "(26317, 292)\n"
     ]
    }
   ],
   "source": [
    "# split the data into training & test data with test size = 20%\n",
    "X_train, X_test, y_train, y_test = train_test_split(X, y,test_size=0.20, random_state=4)\n",
    "print(X_train.shape)\n",
    "print()\n",
    "print(X_test.shape)"
   ]
  },
  {
   "cell_type": "markdown",
   "metadata": {},
   "source": [
    "### 1. Develop a logistic regression model with an arbitrary random_state."
   ]
  },
  {
   "cell_type": "code",
   "execution_count": 10,
   "metadata": {},
   "outputs": [],
   "source": [
    "# instantiate Logistic Regression classifier\n",
    "lr = LogisticRegression(random_state=0)\n"
   ]
  },
  {
   "cell_type": "markdown",
   "metadata": {},
   "source": [
    "### 2. Train the model with the prepared training features and labels."
   ]
  },
  {
   "cell_type": "code",
   "execution_count": 11,
   "metadata": {},
   "outputs": [
    {
     "name": "stderr",
     "output_type": "stream",
     "text": [
      "/Users/scottlew/anaconda2/envs/py3/lib/python3.6/site-packages/sklearn/linear_model/_logistic.py:764: ConvergenceWarning: lbfgs failed to converge (status=1):\n",
      "STOP: TOTAL NO. of ITERATIONS REACHED LIMIT.\n",
      "\n",
      "Increase the number of iterations (max_iter) or scale the data as shown in:\n",
      "    https://scikit-learn.org/stable/modules/preprocessing.html\n",
      "Please also refer to the documentation for alternative solver options:\n",
      "    https://scikit-learn.org/stable/modules/linear_model.html#logistic-regression\n",
      "  extra_warning_msg=_LOGISTIC_SOLVER_CONVERGENCE_MSG)\n"
     ]
    },
    {
     "data": {
      "text/plain": [
       "LogisticRegression(random_state=0)"
      ]
     },
     "execution_count": 11,
     "metadata": {},
     "output_type": "execute_result"
    }
   ],
   "source": [
    "lr.fit(X_train, y_train)\n"
   ]
  },
  {
   "cell_type": "code",
   "execution_count": null,
   "metadata": {},
   "outputs": [],
   "source": []
  },
  {
   "cell_type": "markdown",
   "metadata": {},
   "source": [
    "### 3. Predict the next day’s rain forecast for the prepared testing data."
   ]
  },
  {
   "cell_type": "markdown",
   "metadata": {},
   "source": [
    "### Calculate the probabilities for negative and positive classes."
   ]
  },
  {
   "cell_type": "code",
   "execution_count": 12,
   "metadata": {},
   "outputs": [
    {
     "name": "stdout",
     "output_type": "stream",
     "text": [
      "\n",
      "<class 'numpy.ndarray'>\n",
      "\n",
      "(26317, 2)\n",
      "\n",
      "[[9.96320361e-01 3.67963858e-03]\n",
      " [9.99457739e-01 5.42261241e-04]\n",
      " [2.97196622e-01 7.02803378e-01]\n",
      " ...\n",
      " [9.99012426e-01 9.87574447e-04]\n",
      " [9.99383416e-01 6.16583730e-04]\n",
      " [5.98834184e-02 9.40116582e-01]]\n",
      "\n"
     ]
    }
   ],
   "source": [
    "predict_prob = lr.predict_proba(X_test)\n",
    "print()\n",
    "print(type(predict_prob))\n",
    "print()\n",
    "print(predict_prob.shape)\n",
    "print()\n",
    "print(predict_prob)\n",
    "print()"
   ]
  },
  {
   "cell_type": "code",
   "execution_count": 13,
   "metadata": {},
   "outputs": [
    {
     "name": "stdout",
     "output_type": "stream",
     "text": [
      "1\n",
      "\n",
      "[0.06381635 0.93618365]\n"
     ]
    }
   ],
   "source": [
    "predictions = lr.predict(X_test)\n",
    "print(predictions[100])\n",
    "print()\n",
    "print(predict_prob[100,])"
   ]
  },
  {
   "cell_type": "code",
   "execution_count": 14,
   "metadata": {},
   "outputs": [
    {
     "name": "stdout",
     "output_type": "stream",
     "text": [
      "0\n",
      "\n",
      "[0.99632036 0.00367964]\n"
     ]
    }
   ],
   "source": [
    "print(predictions[0])\n",
    "print()\n",
    "print(predict_prob[0,])"
   ]
  },
  {
   "cell_type": "code",
   "execution_count": 15,
   "metadata": {},
   "outputs": [
    {
     "name": "stdout",
     "output_type": "stream",
     "text": [
      "0\n",
      "\n",
      "[0.99789148 0.00210852]\n"
     ]
    }
   ],
   "source": [
    "print(predictions[1000])\n",
    "print()\n",
    "print(predict_prob[1000,])"
   ]
  },
  {
   "cell_type": "markdown",
   "metadata": {},
   "source": [
    "### 4. Calculate the accuracy score of the model for the predicted results."
   ]
  },
  {
   "cell_type": "code",
   "execution_count": 16,
   "metadata": {},
   "outputs": [
    {
     "name": "stdout",
     "output_type": "stream",
     "text": [
      "Logistic Regression Accuracy Score: 0.94\n",
      "\n"
     ]
    }
   ],
   "source": [
    "print(\"Logistic Regression Accuracy Score: {:.2f}\".format(lr.score(X_test, y_test)))\n",
    "print()"
   ]
  },
  {
   "cell_type": "code",
   "execution_count": 17,
   "metadata": {},
   "outputs": [
    {
     "name": "stdout",
     "output_type": "stream",
     "text": [
      "Confusion Matrix for Model\n",
      "\n",
      "[[20317   632]\n",
      " [  903  4465]]\n"
     ]
    }
   ],
   "source": [
    "# Generate Confusion Matrix for Model\n",
    "actual = y_test\n",
    "predictions = lr.predict(X_test)\n",
    "print('Confusion Matrix for Model')\n",
    "print()\n",
    "cm = confusion_matrix(actual,predictions)\n",
    "print(cm)"
   ]
  },
  {
   "cell_type": "code",
   "execution_count": 18,
   "metadata": {},
   "outputs": [
    {
     "data": {
      "text/plain": [
       "Text(0.5, 1.0, 'Confusion Matrix')"
      ]
     },
     "execution_count": 18,
     "metadata": {},
     "output_type": "execute_result"
    },
    {
     "data": {
      "image/png": "[encoded data removed]",
      "text/plain": [
       "<Figure size 576x576 with 1 Axes>"
      ]
     },
     "metadata": {
      "needs_background": "light"
     },
     "output_type": "display_data"
    }
   ],
   "source": [
    "# Confusion matrix \n",
    "\n",
    "plt.figure(figsize=(8,8))\n",
    "sns.heatmap(cm, annot=True, fmt=\".0f\", linewidths=.5, square = True, cmap = 'Blues_r',cbar=None);\n",
    "plt.ylabel('Actual label',fontsize=18,fontweight='bold');\n",
    "plt.xlabel('Predicted label',fontsize=18, fontweight='bold');\n",
    "\n",
    "plt.title('Confusion Matrix', fontsize = 18,fontweight='bold')"
   ]
  },
  {
   "cell_type": "code",
   "execution_count": 19,
   "metadata": {},
   "outputs": [
    {
     "name": "stderr",
     "output_type": "stream",
     "text": [
      "/Users/scottlew/anaconda2/envs/py3/lib/python3.6/site-packages/sklearn/linear_model/_logistic.py:764: ConvergenceWarning: lbfgs failed to converge (status=1):\n",
      "STOP: TOTAL NO. of ITERATIONS REACHED LIMIT.\n",
      "\n",
      "Increase the number of iterations (max_iter) or scale the data as shown in:\n",
      "    https://scikit-learn.org/stable/modules/preprocessing.html\n",
      "Please also refer to the documentation for alternative solver options:\n",
      "    https://scikit-learn.org/stable/modules/linear_model.html#logistic-regression\n",
      "  extra_warning_msg=_LOGISTIC_SOLVER_CONVERGENCE_MSG)\n"
     ]
    },
    {
     "name": "stdout",
     "output_type": "stream",
     "text": [
      "0.001\n",
      "0.9210396321769199\n",
      "\n"
     ]
    },
    {
     "name": "stderr",
     "output_type": "stream",
     "text": [
      "/Users/scottlew/anaconda2/envs/py3/lib/python3.6/site-packages/sklearn/linear_model/_logistic.py:764: ConvergenceWarning: lbfgs failed to converge (status=1):\n",
      "STOP: TOTAL NO. of ITERATIONS REACHED LIMIT.\n",
      "\n",
      "Increase the number of iterations (max_iter) or scale the data as shown in:\n",
      "    https://scikit-learn.org/stable/modules/preprocessing.html\n",
      "Please also refer to the documentation for alternative solver options:\n",
      "    https://scikit-learn.org/stable/modules/linear_model.html#logistic-regression\n",
      "  extra_warning_msg=_LOGISTIC_SOLVER_CONVERGENCE_MSG)\n"
     ]
    },
    {
     "name": "stdout",
     "output_type": "stream",
     "text": [
      "0.01\n",
      "0.9350229889425087\n",
      "\n"
     ]
    },
    {
     "name": "stderr",
     "output_type": "stream",
     "text": [
      "/Users/scottlew/anaconda2/envs/py3/lib/python3.6/site-packages/sklearn/linear_model/_logistic.py:764: ConvergenceWarning: lbfgs failed to converge (status=1):\n",
      "STOP: TOTAL NO. of ITERATIONS REACHED LIMIT.\n",
      "\n",
      "Increase the number of iterations (max_iter) or scale the data as shown in:\n",
      "    https://scikit-learn.org/stable/modules/preprocessing.html\n",
      "Please also refer to the documentation for alternative solver options:\n",
      "    https://scikit-learn.org/stable/modules/linear_model.html#logistic-regression\n",
      "  extra_warning_msg=_LOGISTIC_SOLVER_CONVERGENCE_MSG)\n"
     ]
    },
    {
     "name": "stdout",
     "output_type": "stream",
     "text": [
      "0.1\n",
      "0.9538701219743891\n",
      "\n"
     ]
    },
    {
     "name": "stderr",
     "output_type": "stream",
     "text": [
      "/Users/scottlew/anaconda2/envs/py3/lib/python3.6/site-packages/sklearn/linear_model/_logistic.py:764: ConvergenceWarning: lbfgs failed to converge (status=1):\n",
      "STOP: TOTAL NO. of ITERATIONS REACHED LIMIT.\n",
      "\n",
      "Increase the number of iterations (max_iter) or scale the data as shown in:\n",
      "    https://scikit-learn.org/stable/modules/preprocessing.html\n",
      "Please also refer to the documentation for alternative solver options:\n",
      "    https://scikit-learn.org/stable/modules/linear_model.html#logistic-regression\n",
      "  extra_warning_msg=_LOGISTIC_SOLVER_CONVERGENCE_MSG)\n"
     ]
    },
    {
     "name": "stdout",
     "output_type": "stream",
     "text": [
      "1\n",
      "0.9416726830565794\n",
      "\n"
     ]
    },
    {
     "name": "stderr",
     "output_type": "stream",
     "text": [
      "/Users/scottlew/anaconda2/envs/py3/lib/python3.6/site-packages/sklearn/linear_model/_logistic.py:764: ConvergenceWarning: lbfgs failed to converge (status=1):\n",
      "STOP: TOTAL NO. of ITERATIONS REACHED LIMIT.\n",
      "\n",
      "Increase the number of iterations (max_iter) or scale the data as shown in:\n",
      "    https://scikit-learn.org/stable/modules/preprocessing.html\n",
      "Please also refer to the documentation for alternative solver options:\n",
      "    https://scikit-learn.org/stable/modules/linear_model.html#logistic-regression\n",
      "  extra_warning_msg=_LOGISTIC_SOLVER_CONVERGENCE_MSG)\n"
     ]
    },
    {
     "name": "stdout",
     "output_type": "stream",
     "text": [
      "10\n",
      "0.9502602880267508\n",
      "\n",
      "100\n",
      "0.9528821674202986\n",
      "\n",
      "0.9210396321769199\n",
      "0.9350229889425087\n",
      "0.9538701219743891\n",
      "0.9416726830565794\n",
      "0.9502602880267508\n",
      "0.9528821674202986\n",
      "\n",
      "0.9538701219743891\n"
     ]
    },
    {
     "name": "stderr",
     "output_type": "stream",
     "text": [
      "/Users/scottlew/anaconda2/envs/py3/lib/python3.6/site-packages/sklearn/linear_model/_logistic.py:764: ConvergenceWarning: lbfgs failed to converge (status=1):\n",
      "STOP: TOTAL NO. of ITERATIONS REACHED LIMIT.\n",
      "\n",
      "Increase the number of iterations (max_iter) or scale the data as shown in:\n",
      "    https://scikit-learn.org/stable/modules/preprocessing.html\n",
      "Please also refer to the documentation for alternative solver options:\n",
      "    https://scikit-learn.org/stable/modules/linear_model.html#logistic-regression\n",
      "  extra_warning_msg=_LOGISTIC_SOLVER_CONVERGENCE_MSG)\n"
     ]
    }
   ],
   "source": [
    "# try optimizing Logistic Regression model for better accuracy on test data\n",
    "#the grid of parameters to search over\n",
    "Cs = [0.001,0.01, 0.1, 1, 10, 100]\n",
    "\n",
    "Scores = []\n",
    "for item in Cs:\n",
    "    clf = LogisticRegression(C=item,random_state=0)\n",
    "    clf.fit(X_train, y_train)\n",
    "    print(item)\n",
    "    print(clf.score(X_test, y_test))\n",
    "    print()\n",
    "    Scores.append(clf.score(X_test, y_test))\n",
    "\n",
    "for score in Scores:\n",
    "    print(score)\n",
    "    \n",
    "print()    \n",
    "print(max(Scores))\n",
    "\n"
   ]
  },
  {
   "cell_type": "code",
   "execution_count": 20,
   "metadata": {},
   "outputs": [
    {
     "name": "stdout",
     "output_type": "stream",
     "text": [
      "2\n",
      "\n",
      "0.1\n",
      "\n"
     ]
    }
   ],
   "source": [
    "# select optimized C value for accuracy\n",
    "max_score_index = Scores.index(max(Scores))\n",
    "print(max_score_index)\n",
    "C_op = Cs[max_score_index]\n",
    "print()\n",
    "print(C_op)\n",
    "print()"
   ]
  },
  {
   "cell_type": "code",
   "execution_count": 21,
   "metadata": {},
   "outputs": [
    {
     "name": "stdout",
     "output_type": "stream",
     "text": [
      "Optimized Logistic Regression Model Accuracy Score: 0.95\n",
      "\n"
     ]
    },
    {
     "name": "stderr",
     "output_type": "stream",
     "text": [
      "/Users/scottlew/anaconda2/envs/py3/lib/python3.6/site-packages/sklearn/linear_model/_logistic.py:764: ConvergenceWarning: lbfgs failed to converge (status=1):\n",
      "STOP: TOTAL NO. of ITERATIONS REACHED LIMIT.\n",
      "\n",
      "Increase the number of iterations (max_iter) or scale the data as shown in:\n",
      "    https://scikit-learn.org/stable/modules/preprocessing.html\n",
      "Please also refer to the documentation for alternative solver options:\n",
      "    https://scikit-learn.org/stable/modules/linear_model.html#logistic-regression\n",
      "  extra_warning_msg=_LOGISTIC_SOLVER_CONVERGENCE_MSG)\n"
     ]
    }
   ],
   "source": [
    "# optimize logistic regression model with optimized C value\n",
    "lr_op = LogisticRegression(C= C_op,random_state=0)\n",
    "\n",
    "lr_op.fit(X_train, y_train)\n",
    "\n",
    "print(\"Optimized Logistic Regression Model Accuracy Score: {:.2f}\".format(lr_op.score(X_test, y_test)))\n",
    "print()"
   ]
  },
  {
   "cell_type": "markdown",
   "metadata": {},
   "source": [
    "### 5. Interpret the model results by checking feature importance:"
   ]
  },
  {
   "cell_type": "markdown",
   "metadata": {},
   "source": [
    "### Check the learned weights for each feature.\n",
    "### Check the bias term."
   ]
  },
  {
   "cell_type": "code",
   "execution_count": 22,
   "metadata": {},
   "outputs": [],
   "source": [
    "# https://stackoverflow.com/questions/25122999/scikit-learn-how-to-check-coefficients-significance\n",
    "#coefs = np.concatenate([lr_op.intercept_, lr_op.coef_[0]])\n",
    "coefs = lr_op.coef_[0]\n",
    "bias = lr_op.intercept_"
   ]
  },
  {
   "cell_type": "code",
   "execution_count": 23,
   "metadata": {},
   "outputs": [
    {
     "name": "stdout",
     "output_type": "stream",
     "text": [
      "the learned weights for each feature\n",
      "[ 0.03008515 -0.01153847  0.13550388  0.00052159  0.00358384  0.1486106\n",
      " -0.09332121 -0.09916697  0.04913433  0.26286062]\n"
     ]
    }
   ],
   "source": [
    "print('the learned weights for each feature')\n",
    "print(coefs[0:10])"
   ]
  },
  {
   "cell_type": "code",
   "execution_count": 24,
   "metadata": {},
   "outputs": [
    {
     "name": "stdout",
     "output_type": "stream",
     "text": [
      "[-1.94974039e-05]\n"
     ]
    }
   ],
   "source": [
    "print(bias)"
   ]
  },
  {
   "cell_type": "markdown",
   "metadata": {},
   "source": [
    "### Bias = -1.94974039e-05"
   ]
  },
  {
   "cell_type": "code",
   "execution_count": 25,
   "metadata": {},
   "outputs": [
    {
     "name": "stdout",
     "output_type": "stream",
     "text": [
      "Index(['MinTemp', 'MaxTemp', 'Rainfall', 'Evaporation', 'Sunshine',\n",
      "       'WindGustSpeed', 'WindSpeed9am', 'WindSpeed3pm', 'Humidity9am',\n",
      "       'Humidity3pm',\n",
      "       ...\n",
      "       'WindDir3pm_NNW', 'WindDir3pm_NW', 'WindDir3pm_S', 'WindDir3pm_SE',\n",
      "       'WindDir3pm_SSE', 'WindDir3pm_SSW', 'WindDir3pm_SW', 'WindDir3pm_W',\n",
      "       'WindDir3pm_WNW', 'WindDir3pm_WSW'],\n",
      "      dtype='object', length=292)\n"
     ]
    }
   ],
   "source": [
    "print(X.columns)"
   ]
  },
  {
   "cell_type": "code",
   "execution_count": 26,
   "metadata": {},
   "outputs": [],
   "source": [
    "coef_dict = {}\n",
    "for coef, feat in zip(coefs, X.columns):\n",
    "    coef_dict[feat] = coef"
   ]
  },
  {
   "cell_type": "code",
   "execution_count": 27,
   "metadata": {},
   "outputs": [
    {
     "name": "stdout",
     "output_type": "stream",
     "text": [
      "[(0.030085147425173965, 'MinTemp'), (-0.011538473102132726, 'MaxTemp'), (0.13550387832754132, 'Rainfall'), (0.0005215901172394303, 'Evaporation'), (0.003583843148570451, 'Sunshine'), (0.1486105955868708, 'WindGustSpeed'), (-0.09332120801149353, 'WindSpeed9am'), (-0.09916696613848451, 'WindSpeed3pm'), (0.04913433193841417, 'Humidity9am'), (0.2628606223872348, 'Humidity3pm'), (0.013117619771262776, 'Pressure9am'), (-0.03611691052307184, 'Pressure3pm'), (-0.15774815408637619, 'Cloud9am'), (-0.00862147788215981, 'Cloud3pm'), (0.031912013771014894, 'Temp9am'), (-0.023510675882997024, 'Temp3pm'), (0.024567616660935, 'month'), (-0.00011132621000856167, 'day'), (0.03891092200823914, 'year'), (-0.00017730509270487448, 'MinTemp_IQR')]\n"
     ]
    }
   ],
   "source": [
    "print(list(zip(coefs, X.columns))[0:20])\n"
   ]
  },
  {
   "cell_type": "code",
   "execution_count": 28,
   "metadata": {},
   "outputs": [
    {
     "name": "stdout",
     "output_type": "stream",
     "text": [
      "Humidity3pm_zscore 1.2712634917358074\n",
      "Humidity3pm_zscore.1 1.2712634917358074\n",
      "WindGustSpeed_zscore 0.7364064220448614\n",
      "WindGustSpeed_zscore.1 0.7364064220448614\n",
      "Rainfall_zscore 0.37503745290945767\n",
      "Rainfall_zscore.1 0.37503745290945767\n",
      "Humidity3pm 0.2628606223872348\n",
      "Humidity3pm.1 0.2628606223872348\n",
      "Humidity9am_zscore 0.25805880605547116\n",
      "Humidity9am_zscore.1 0.25805880605547116\n",
      "Temp9am_zscore 0.1984958526436849\n",
      "Temp9am_zscore.1 0.1984958526436849\n",
      "WindDir9am_N 0.18534993164721214\n",
      "MinTemp_zscore 0.17303906195655228\n",
      "MinTemp_zscore.1 0.17303906195655228\n",
      "WindGustSpeed 0.1486105955868708\n",
      "WindGustSpeed.1 0.1486105955868708\n",
      "Rainfall 0.13550387832754132\n",
      "Rainfall.1 0.13550387832754132\n",
      "WindDir9am_NNE 0.13040765365539642\n",
      "WindDir3pm_NW 0.11443278674424515\n",
      "WindDir3pm_N 0.1111415494322226\n",
      "WindDir3pm_NNW 0.1069802832779567\n",
      "Pressure9am_zscore 0.10187057967229475\n",
      "Pressure9am_zscore.1 0.10187057967229475\n",
      "Location_Witchcliffe 0.09301759249633494\n",
      "WindGustDir_N 0.08120191190920842\n",
      "WindGustDir_NW 0.08025475993073332\n",
      "WindGustDir_NNW 0.0725319538536491\n",
      "WindDir3pm_NNE 0.06918007880207226\n",
      "Location_Brisbane 0.0691375073207604\n",
      "Location_Walpole 0.0650209887832891\n",
      "Location_Penrith 0.059669996689226006\n",
      "WindDir9am_NE 0.05959232685622064\n",
      "Location_Perth 0.05197056531669605\n",
      "Humidity9am 0.04913433193841417\n",
      "Humidity9am.1 0.04913433193841417\n",
      "Location_Newcastle 0.04833053929651239\n",
      "Location_Tuggeranong 0.044491081600844355\n",
      "WindDir3pm_WNW 0.043933149890666275\n",
      "Location_BadgerysCreek 0.0425925486539253\n",
      "WindDir9am_NW 0.04223207586630077\n",
      "WindDir9am_NNW 0.0405612292919551\n",
      "year 0.03891092200823914\n",
      "year.1 0.03891092200823914\n",
      "WindGustDir_WNW 0.03720103059557705\n",
      "Location_CoffsHarbour 0.03645518516502773\n",
      "Location_SalmonGums 0.03308529556697684\n",
      "WindGustDir_NNE 0.03305049840816\n",
      "WindDir3pm_SE 0.032224098289685095\n",
      "Temp9am 0.031912013771014894\n",
      "Temp9am.1 0.031912013771014894\n",
      "Location_Dartmoor 0.030608955994295094\n",
      "MinTemp 0.030085147425173965\n",
      "MinTemp.1 0.030085147425173965\n",
      "WindDir9am_ENE 0.027756687818873756\n",
      "Location_PerthAirport 0.025079286830647588\n",
      "month 0.024567616660935\n",
      "month.1 0.024567616660935\n",
      "Location_Richmond 0.022899972093020648\n",
      "Location_Albury 0.021526415154426153\n",
      "Sunshine_zscore 0.01909304826859429\n",
      "Sunshine_zscore.1 0.01909304826859429\n",
      "Location_Sydney 0.017605799589327665\n",
      "Location_GoldCoast 0.014083113437714921\n",
      "Pressure9am 0.013117619771262776\n",
      "Pressure9am.1 0.013117619771262776\n",
      "Location_Cairns 0.009828307113279347\n",
      "WindGustDir_W 0.009383114758574786\n",
      "Location_Williamtown 0.0040234279454069944\n",
      "Sunshine 0.003583843148570451\n",
      "Sunshine.1 0.003583843148570451\n",
      "WindGustDir_NE 0.0030542227827556646\n",
      "Evaporation_zscore 0.002211439571756336\n",
      "Evaporation_zscore.1 0.002211439571756336\n",
      "Location_Albany 0.0014689558777616172\n",
      "Location_PearceRAAF 0.0013436914367650206\n",
      "Evaporation 0.0005215901172394303\n",
      "Evaporation.1 0.0005215901172394303\n",
      "Rainfall_lower 0.0\n",
      "MinTemp_outlier 0.0\n",
      "MaxTemp_outlier 0.0\n",
      "Rainfall_outlier 0.0\n",
      "Evaporation_outlier 0.0\n",
      "WindGustSpeed_outlier 0.0\n",
      "WindSpeed9am_outlier 0.0\n",
      "WindSpeed3pm_outlier 0.0\n",
      "Humidity9am_outlier 0.0\n",
      "Humidity3pm_outlier 0.0\n",
      "Pressure9am_outlier 0.0\n",
      "Pressure3pm_outlier 0.0\n",
      "Cloud9am_outlier 0.0\n",
      "Cloud3pm_outlier 0.0\n",
      "Temp9am_outlier 0.0\n",
      "Temp3pm_outlier 0.0\n",
      "Rainfall_lower.1 0.0\n",
      "MinTemp_outlier.1 0.0\n",
      "MaxTemp_outlier.1 0.0\n",
      "Rainfall_outlier.1 0.0\n",
      "Evaporation_outlier.1 0.0\n",
      "WindGustSpeed_outlier.1 0.0\n",
      "WindSpeed9am_outlier.1 0.0\n",
      "WindSpeed3pm_outlier.1 0.0\n",
      "Humidity9am_outlier.1 0.0\n",
      "Humidity3pm_outlier.1 0.0\n",
      "Pressure9am_outlier.1 0.0\n",
      "Pressure3pm_outlier.1 0.0\n",
      "Cloud9am_outlier.1 0.0\n",
      "Cloud3pm_outlier.1 0.0\n",
      "Temp9am_outlier.1 0.0\n",
      "Temp3pm_outlier.1 0.0\n",
      "Sunshine_outlier -1.1252199600277485e-05\n",
      "Sunshine_outlier.1 -1.1252199600277485e-05\n",
      "Rainfall_IQR -1.9484076137876475e-05\n",
      "Rainfall_upper -1.9484076137876475e-05\n",
      "Rainfall_IQR.1 -1.9484076137876475e-05\n",
      "Rainfall_upper.1 -1.9484076137876475e-05\n",
      "Sunshine_IQR -2.1214700074794665e-05\n",
      "Sunshine_IQR.1 -2.1214700074794665e-05\n",
      "Evaporation_IQR -2.860713476733019e-05\n",
      "Evaporation_IQR.1 -2.860713476733019e-05\n",
      "Cloud3pm_IQR -3.896815227575295e-05\n",
      "Cloud3pm_IQR.1 -3.896815227575295e-05\n",
      "Cloud9am_IQR -5.845222836164069e-05\n",
      "Cloud9am_lower -5.845222836164069e-05\n",
      "Cloud9am_IQR.1 -5.845222836164069e-05\n",
      "Cloud9am_lower.1 -5.845222836164069e-05\n",
      "Evaporation_lower -7.79363045515059e-05\n",
      "Cloud3pm_lower -7.79363045515059e-05\n",
      "Evaporation_lower.1 -7.79363045515059e-05\n",
      "Cloud3pm_lower.1 -7.79363045515059e-05\n",
      "Evaporation_upper -0.00010654343923495944\n",
      "Evaporation_upper.1 -0.00010654343923495944\n",
      "day -0.00011132621000856167\n",
      "day.1 -0.00011132621000856167\n",
      "Cloud9am_upper -0.00011690445672328138\n",
      "Cloud3pm_upper -0.00011690445672328138\n",
      "Cloud9am_upper.1 -0.00011690445672328138\n",
      "Cloud3pm_upper.1 -0.00011690445672328138\n",
      "WindSpeed9am_lower -0.00013638853288729165\n",
      "WindSpeed9am_lower.1 -0.00013638853288729165\n",
      "Sunshine_lower -0.00014829676221181397\n",
      "Sunshine_lower.1 -0.00014829676221181397\n",
      "MinTemp_lower -0.00015002738606434413\n",
      "MinTemp_lower.1 -0.00015002738606434413\n",
      "Pressure9am_IQR -0.00016171783180141315\n",
      "Pressure3pm_IQR -0.00016171783180141315\n",
      "Pressure9am_IQR.1 -0.00016171783180141315\n",
      "Pressure3pm_IQR.1 -0.00016171783180141315\n",
      "Sunshine_upper -0.00016951146215483224\n",
      "Sunshine_upper.1 -0.00016951146215483224\n",
      "MinTemp_IQR -0.00017730509270487448\n",
      "MinTemp_IQR.1 -0.00017730509270487448\n",
      "Temp9am_IQR -0.00017925350019407094\n",
      "Temp9am_IQR.1 -0.00017925350019407094\n",
      "Temp3pm_IQR -0.00018509872316296134\n",
      "Temp3pm_IQR.1 -0.00018509872316296134\n",
      "MaxTemp_IQR -0.0001987375763047911\n",
      "MaxTemp_IQR.1 -0.0001987375763047911\n",
      "WindSpeed3pm_IQR -0.00021432483731267097\n",
      "WindSpeed3pm_IQR.1 -0.00021432483731267097\n",
      "WindSpeed9am_IQR -0.00023380891344656276\n",
      "WindSpeed9am_IQR.1 -0.00023380891344656276\n",
      "Temp9am_lower -0.00023965413622238472\n",
      "Temp9am_lower.1 -0.00023965413622238472\n",
      "WindSpeed3pm_lower -0.000253292989616945\n",
      "WindSpeed3pm_lower.1 -0.000253292989616945\n",
      "WindGustSpeed_IQR -0.00029226114179353957\n",
      "WindGustSpeed_IQR.1 -0.00029226114179353957\n",
      "Temp3pm_lower -0.00032538407137759856\n",
      "Temp3pm_lower.1 -0.00032538407137759856\n",
      "MinTemp_upper -0.0003273324787038571\n",
      "MinTemp_upper.1 -0.0003273324787038571\n",
      "MaxTemp_lower -0.00035071337022896196\n",
      "MaxTemp_lower.1 -0.00035071337022896196\n",
      "WindSpeed9am_upper -0.0003701974463259227\n",
      "WindSpeed9am_upper.1 -0.0003701974463259227\n",
      "Temp9am_upper -0.00041890763629088017\n",
      "Temp9am_upper.1 -0.00041890763629088017\n",
      "WindSpeed3pm_upper -0.0004676178268931255\n",
      "WindSpeed3pm_upper.1 -0.0004676178268931255\n",
      "Humidity9am_IQR -0.00050658597923389\n",
      "Humidity9am_IQR.1 -0.00050658597923389\n",
      "Temp3pm_upper -0.0005104827940986095\n",
      "Temp3pm_upper.1 -0.0005104827940986095\n",
      "Humidity3pm_IQR -0.0005455541315491666\n",
      "Humidity3pm_IQR.1 -0.0005455541315491666\n",
      "MaxTemp_upper -0.0005494509465949713\n",
      "MaxTemp_upper.1 -0.0005494509465949713\n",
      "WindGustSpeed_lower -0.0006040063598136995\n",
      "WindGustSpeed_lower.1 -0.0006040063598136995\n",
      "Humidity3pm_lower -0.000720910816263981\n",
      "Humidity3pm_lower.1 -0.000720910816263981\n",
      "WindGustSpeed_upper -0.0008962675013437355\n",
      "WindGustSpeed_upper.1 -0.0008962675013437355\n",
      "Humidity9am_lower -0.001110592339644628\n",
      "Humidity9am_lower.1 -0.001110592339644628\n",
      "Humidity3pm_upper -0.001266464947900367\n",
      "Humidity3pm_upper.1 -0.001266464947900367\n",
      "Humidity9am_upper -0.0016171783194224578\n",
      "Humidity9am_upper.1 -0.0016171783194224578\n",
      "Location_Cobar -0.002138589161811569\n",
      "Location_SydneyAirport -0.0021523065061506796\n",
      "WindDir9am_WNW -0.0033958086821094936\n",
      "Location_Canberra -0.003970838231461927\n",
      "Location_NorahHead -0.004531224080430541\n",
      "WindDir3pm_NE -0.004719782042441061\n",
      "Location_Nhil -0.005818764629051383\n",
      "Location_WaggaWagga -0.006311674968168831\n",
      "Location_Bendigo -0.006387471452334533\n",
      "Location_Launceston -0.007644768024615491\n",
      "WindGustDir_ENE -0.008414838264805538\n",
      "Cloud3pm -0.00862147788215981\n",
      "Cloud3pm.1 -0.00862147788215981\n",
      "WindGustDir_ESE -0.009037595188574173\n",
      "Location_Moree -0.009450336450548354\n",
      "Location_Uluru -0.009796434005844849\n",
      "WindDir9am_SW -0.010485840252490278\n",
      "MaxTemp -0.011538473102132726\n",
      "MaxTemp.1 -0.011538473102132726\n",
      "Location_Portland -0.014027712472444408\n",
      "WindDir3pm_ENE -0.015096205436423746\n",
      "Location_NorfolkIsland -0.016318786437431163\n",
      "Location_AliceSprings -0.017820113049248965\n",
      "Pressure3pm_lower -0.019700349373452462\n",
      "Pressure3pm_lower.1 -0.019700349373452462\n",
      "Pressure9am_lower -0.01974711114545182\n",
      "Pressure9am_lower.1 -0.01974711114545182\n",
      "Pressure3pm_upper -0.019862067192580303\n",
      "Pressure3pm_upper.1 -0.019862067192580303\n",
      "Pressure9am_upper -0.01990882900176381\n",
      "Pressure9am_upper.1 -0.01990882900176381\n",
      "Location_MountGambier -0.02059532771291746\n",
      "Location_Katherine -0.02155827778471889\n",
      "Location_Nuriootpa -0.021802227099174804\n",
      "Temp3pm -0.023510675882997024\n",
      "Temp3pm.1 -0.023510675882997024\n",
      "Location_Darwin -0.025889109020304765\n",
      "WindDir3pm_W -0.026149395769072062\n",
      "Location_Woomera -0.0266077744224314\n",
      "Location_MountGinini -0.028650516616090485\n",
      "WindDir9am_W -0.02918865551848102\n",
      "WindGustDir_SE -0.031843757379548136\n",
      "Location_Mildura -0.033061180253981866\n",
      "WindDir3pm_ESE -0.03532799484998185\n",
      "Pressure3pm -0.03611691052307184\n",
      "Pressure3pm.1 -0.03611691052307184\n",
      "Cloud3pm_zscore -0.0370317186422964\n",
      "Cloud3pm_zscore.1 -0.0370317186422964\n",
      "WindGustDir_SSW -0.039315249303809106\n",
      "WindDir9am_WSW -0.04198097629502336\n",
      "WindDir3pm_SSW -0.043741312611300175\n",
      "WindGustDir_SSE -0.04455987169529095\n",
      "Location_Watsonia -0.04644871486460413\n",
      "WindGustDir_WSW -0.04748167382344004\n",
      "WindDir9am_ESE -0.047512989207429406\n",
      "WindDir9am_SSW -0.049084182294789384\n",
      "WindGustDir_SW -0.05050218757282294\n",
      "Location_Melbourne -0.05568885845331097\n",
      "Location_Sale -0.0558553958426607\n",
      "WindGustDir_S -0.058836351185822734\n",
      "Location_Ballarat -0.05990225144814308\n",
      "Location_Wollongong -0.060089101970446826\n",
      "Location_MelbourneAirport -0.06487832003598654\n",
      "Location_Townsville -0.06747248152278486\n",
      "WindDir3pm_WSW -0.07034461175212298\n",
      "MaxTemp_zscore -0.07317884929535325\n",
      "MaxTemp_zscore.1 -0.07317884929535325\n",
      "Location_Hobart -0.07400049153164637\n",
      "WindDir3pm_SSE -0.08003563767483446\n",
      "WindDir9am_SE -0.08535982871728837\n",
      "WindDir9am_SSE -0.08602496761706081\n",
      "WindDir3pm_S -0.08696452333324066\n",
      "WindSpeed9am -0.09332120801149353\n",
      "WindSpeed9am.1 -0.09332120801149353\n",
      "WindDir3pm_SW -0.09365877264875397\n",
      "WindDir9am_S -0.09834174508797104\n",
      "WindSpeed3pm -0.09916696613848451\n",
      "WindSpeed3pm.1 -0.09916696613848451\n",
      "Temp3pm_zscore -0.1505973418202938\n",
      "Temp3pm_zscore.1 -0.1505973418202938\n"
     ]
    },
    {
     "name": "stdout",
     "output_type": "stream",
     "text": [
      "Cloud9am -0.15774815408637619\n",
      "Cloud9am.1 -0.15774815408637619\n",
      "Pressure3pm_zscore -0.28009833976882453\n",
      "Pressure3pm_zscore.1 -0.28009833976882453\n",
      "WindSpeed9am_zscore -0.3685767009291653\n",
      "WindSpeed9am_zscore.1 -0.3685767009291653\n",
      "WindSpeed3pm_zscore -0.44365575656580986\n",
      "WindSpeed3pm_zscore.1 -0.44365575656580986\n",
      "Cloud9am_zscore -0.6266105282424761\n",
      "Cloud9am_zscore.1 -0.6266105282424761\n"
     ]
    }
   ],
   "source": [
    "# https://careerkarma.com/blog/python-sort-a-dictionary-by-value/\n",
    "sorted_coefs = sorted(coef_dict.items(), key=lambda x: x[1],reverse=True)\n",
    "sorted_coefs.pop(0)\n",
    "\n",
    "for idx in sorted_coefs:\n",
    "    print(idx[0], idx[1])"
   ]
  },
  {
   "cell_type": "code",
   "execution_count": 29,
   "metadata": {},
   "outputs": [],
   "source": [
    "# print(type(sorted_coefs))"
   ]
  },
  {
   "cell_type": "code",
   "execution_count": 30,
   "metadata": {},
   "outputs": [
    {
     "name": "stdout",
     "output_type": "stream",
     "text": [
      "('Humidity3pm_zscore', 1.2712634917358074)\n",
      "('Humidity3pm_zscore.1', 1.2712634917358074)\n",
      "('WindGustSpeed_zscore', 0.7364064220448614)\n",
      "('WindGustSpeed_zscore.1', 0.7364064220448614)\n",
      "('Rainfall_zscore', 0.37503745290945767)\n",
      "('Rainfall_zscore.1', 0.37503745290945767)\n",
      "('Humidity3pm', 0.2628606223872348)\n",
      "('Humidity3pm.1', 0.2628606223872348)\n",
      "('Humidity9am_zscore', 0.25805880605547116)\n",
      "('Humidity9am_zscore.1', 0.25805880605547116)\n",
      "('Temp9am_zscore', 0.1984958526436849)\n",
      "('Temp9am_zscore.1', 0.1984958526436849)\n",
      "('WindDir9am_N', 0.18534993164721214)\n",
      "('MinTemp_zscore', 0.17303906195655228)\n",
      "('MinTemp_zscore.1', 0.17303906195655228)\n",
      "('WindGustSpeed', 0.1486105955868708)\n",
      "('WindGustSpeed.1', 0.1486105955868708)\n",
      "('Rainfall', 0.13550387832754132)\n",
      "('Rainfall.1', 0.13550387832754132)\n",
      "('WindDir9am_NNE', 0.13040765365539642)\n",
      "('WindDir3pm_NW', 0.11443278674424515)\n",
      "('WindDir3pm_N', 0.1111415494322226)\n",
      "('WindDir3pm_NNW', 0.1069802832779567)\n",
      "('Pressure9am_zscore', 0.10187057967229475)\n",
      "('Pressure9am_zscore.1', 0.10187057967229475)\n",
      "('Location_Witchcliffe', 0.09301759249633494)\n",
      "('WindGustDir_N', 0.08120191190920842)\n",
      "('WindGustDir_NW', 0.08025475993073332)\n",
      "('WindGustDir_NNW', 0.0725319538536491)\n",
      "('WindDir3pm_NNE', 0.06918007880207226)\n",
      "('Location_Brisbane', 0.0691375073207604)\n",
      "('Location_Walpole', 0.0650209887832891)\n",
      "('Location_Penrith', 0.059669996689226006)\n",
      "('WindDir9am_NE', 0.05959232685622064)\n",
      "('Location_Perth', 0.05197056531669605)\n",
      "('Humidity9am', 0.04913433193841417)\n",
      "('Humidity9am.1', 0.04913433193841417)\n",
      "('Location_Newcastle', 0.04833053929651239)\n",
      "('Location_Tuggeranong', 0.044491081600844355)\n",
      "('WindDir3pm_WNW', 0.043933149890666275)\n",
      "('Location_BadgerysCreek', 0.0425925486539253)\n",
      "('WindDir9am_NW', 0.04223207586630077)\n",
      "('WindDir9am_NNW', 0.0405612292919551)\n",
      "('year', 0.03891092200823914)\n",
      "('year.1', 0.03891092200823914)\n",
      "('WindGustDir_WNW', 0.03720103059557705)\n",
      "('Location_CoffsHarbour', 0.03645518516502773)\n",
      "('Location_SalmonGums', 0.03308529556697684)\n",
      "('WindGustDir_NNE', 0.03305049840816)\n",
      "('WindDir3pm_SE', 0.032224098289685095)\n",
      "('Temp9am', 0.031912013771014894)\n",
      "('Temp9am.1', 0.031912013771014894)\n",
      "('Location_Dartmoor', 0.030608955994295094)\n",
      "('MinTemp', 0.030085147425173965)\n",
      "('MinTemp.1', 0.030085147425173965)\n",
      "('WindDir9am_ENE', 0.027756687818873756)\n",
      "('Location_PerthAirport', 0.025079286830647588)\n",
      "('month', 0.024567616660935)\n",
      "('month.1', 0.024567616660935)\n",
      "('Location_Richmond', 0.022899972093020648)\n",
      "('Location_Albury', 0.021526415154426153)\n",
      "('Sunshine_zscore', 0.01909304826859429)\n",
      "('Sunshine_zscore.1', 0.01909304826859429)\n",
      "('Location_Sydney', 0.017605799589327665)\n",
      "('Location_GoldCoast', 0.014083113437714921)\n",
      "('Pressure9am', 0.013117619771262776)\n",
      "('Pressure9am.1', 0.013117619771262776)\n",
      "('Location_Cairns', 0.009828307113279347)\n",
      "('WindGustDir_W', 0.009383114758574786)\n",
      "('Location_Williamtown', 0.0040234279454069944)\n",
      "('Sunshine', 0.003583843148570451)\n",
      "('Sunshine.1', 0.003583843148570451)\n",
      "('WindGustDir_NE', 0.0030542227827556646)\n",
      "('Evaporation_zscore', 0.002211439571756336)\n",
      "('Evaporation_zscore.1', 0.002211439571756336)\n",
      "('Location_Albany', 0.0014689558777616172)\n",
      "('Location_PearceRAAF', 0.0013436914367650206)\n",
      "('Evaporation', 0.0005215901172394303)\n",
      "('Evaporation.1', 0.0005215901172394303)\n",
      "('Rainfall_lower', 0.0)\n",
      "('MinTemp_outlier', 0.0)\n",
      "('MaxTemp_outlier', 0.0)\n",
      "('Rainfall_outlier', 0.0)\n",
      "('Evaporation_outlier', 0.0)\n",
      "('WindGustSpeed_outlier', 0.0)\n",
      "('WindSpeed9am_outlier', 0.0)\n",
      "('WindSpeed3pm_outlier', 0.0)\n",
      "('Humidity9am_outlier', 0.0)\n",
      "('Humidity3pm_outlier', 0.0)\n",
      "('Pressure9am_outlier', 0.0)\n"
     ]
    }
   ],
   "source": [
    "for item in sorted_coefs[0:90]:\n",
    "    print(item)"
   ]
  },
  {
   "cell_type": "markdown",
   "metadata": {},
   "source": [
    "### Humidity3pm, Humidity9am, WindGustSpeed, Rainfall are useful predictors in predicting rain tomorrow"
   ]
  },
  {
   "cell_type": "code",
   "execution_count": 31,
   "metadata": {},
   "outputs": [
    {
     "data": {
      "text/plain": [
       "('RainTomorrow.1', 5.859916546175013)"
      ]
     },
     "execution_count": 31,
     "metadata": {},
     "output_type": "execute_result"
    }
   ],
   "source": [
    "# https://careerkarma.com/blog/python-sort-a-dictionary-by-value/\n",
    "sorted_coefs = sorted(coef_dict.items(), key=lambda x: x[1],reverse=True)\n",
    "sorted_coefs.pop(0)\n"
   ]
  },
  {
   "cell_type": "code",
   "execution_count": 32,
   "metadata": {},
   "outputs": [],
   "source": [
    "#my_cols = []\n",
    "#for item in sorted_coefs[0:5]:\n",
    "    #my_cols.append(item[0])"
   ]
  },
  {
   "cell_type": "code",
   "execution_count": 33,
   "metadata": {},
   "outputs": [],
   "source": [
    "#print(my_cols)"
   ]
  },
  {
   "cell_type": "code",
   "execution_count": 34,
   "metadata": {},
   "outputs": [],
   "source": [
    "# create a mininmalistic Logistic Regression model with few features to predict rain tomorrow\n",
    "#my_cols = ['Humidity3pm','Humidity9am','WindGustSpeed', 'Rainfall','Pressure9am']\n",
    "my_cols = ['Humidity3pm','Humidity9am','WindGustSpeed', 'Rainfall','Pressure9am','Pressure3pm']\n",
    "#my_cols = ['Humidity3pm','Humidity9am','WindGustSpeed', 'Rainfall','Pressure9am','WindDir9am_NNE']\n",
    "#my_cols = ['Humidity3pm','Humidity9am','Rainfall']\n",
    "#my_cols = ['Humidity3pm','Rainfall']\n",
    "X2 = df[my_cols]\n",
    "y = df['RainTomorrow']"
   ]
  },
  {
   "cell_type": "code",
   "execution_count": 35,
   "metadata": {},
   "outputs": [
    {
     "data": {
      "text/html": [
       "<div>\n",
       "<style scoped>\n",
       "    .dataframe tbody tr th:only-of-type {\n",
       "        vertical-align: middle;\n",
       "    }\n",
       "\n",
       "    .dataframe tbody tr th {\n",
       "        vertical-align: top;\n",
       "    }\n",
       "\n",
       "    .dataframe thead th {\n",
       "        text-align: right;\n",
       "    }\n",
       "</style>\n",
       "<table border=\"1\" class=\"dataframe\">\n",
       "  <thead>\n",
       "    <tr style=\"text-align: right;\">\n",
       "      <th></th>\n",
       "      <th>Humidity3pm</th>\n",
       "      <th>Humidity9am</th>\n",
       "      <th>WindGustSpeed</th>\n",
       "      <th>Rainfall</th>\n",
       "      <th>Pressure9am</th>\n",
       "      <th>Pressure3pm</th>\n",
       "    </tr>\n",
       "  </thead>\n",
       "  <tbody>\n",
       "    <tr>\n",
       "      <th>0</th>\n",
       "      <td>0.212121</td>\n",
       "      <td>0.707071</td>\n",
       "      <td>0.569231</td>\n",
       "      <td>0.025862</td>\n",
       "      <td>0.488506</td>\n",
       "      <td>0.520309</td>\n",
       "    </tr>\n",
       "    <tr>\n",
       "      <th>1</th>\n",
       "      <td>0.242424</td>\n",
       "      <td>0.434343</td>\n",
       "      <td>0.569231</td>\n",
       "      <td>0.000000</td>\n",
       "      <td>0.544061</td>\n",
       "      <td>0.533849</td>\n",
       "    </tr>\n",
       "    <tr>\n",
       "      <th>2</th>\n",
       "      <td>0.292929</td>\n",
       "      <td>0.373737</td>\n",
       "      <td>0.600000</td>\n",
       "      <td>0.000000</td>\n",
       "      <td>0.486590</td>\n",
       "      <td>0.551257</td>\n",
       "    </tr>\n",
       "    <tr>\n",
       "      <th>3</th>\n",
       "      <td>0.151515</td>\n",
       "      <td>0.444444</td>\n",
       "      <td>0.261538</td>\n",
       "      <td>0.000000</td>\n",
       "      <td>0.678161</td>\n",
       "      <td>0.630561</td>\n",
       "    </tr>\n",
       "    <tr>\n",
       "      <th>4</th>\n",
       "      <td>0.323232</td>\n",
       "      <td>0.818182</td>\n",
       "      <td>0.523077</td>\n",
       "      <td>0.043103</td>\n",
       "      <td>0.547893</td>\n",
       "      <td>0.499033</td>\n",
       "    </tr>\n",
       "  </tbody>\n",
       "</table>\n",
       "</div>"
      ],
      "text/plain": [
       "   Humidity3pm  Humidity9am  WindGustSpeed  Rainfall  Pressure9am  Pressure3pm\n",
       "0     0.212121     0.707071       0.569231  0.025862     0.488506     0.520309\n",
       "1     0.242424     0.434343       0.569231  0.000000     0.544061     0.533849\n",
       "2     0.292929     0.373737       0.600000  0.000000     0.486590     0.551257\n",
       "3     0.151515     0.444444       0.261538  0.000000     0.678161     0.630561\n",
       "4     0.323232     0.818182       0.523077  0.043103     0.547893     0.499033"
      ]
     },
     "execution_count": 35,
     "metadata": {},
     "output_type": "execute_result"
    }
   ],
   "source": [
    "X2.head()"
   ]
  },
  {
   "cell_type": "code",
   "execution_count": 36,
   "metadata": {},
   "outputs": [
    {
     "name": "stdout",
     "output_type": "stream",
     "text": [
      "(105267, 6)\n",
      "\n",
      "(26317, 6)\n",
      "\n",
      "(105267,)\n",
      "\n",
      "(26317,)\n"
     ]
    }
   ],
   "source": [
    "# split the data into training & test data with test size = 20%\n",
    "X_train, X_test, y_train, y_test = train_test_split(X2, y,test_size=0.20, random_state=4)\n",
    "print(X_train.shape)\n",
    "print()\n",
    "print(X_test.shape)\n",
    "print()\n",
    "print(y_train.shape)\n",
    "print()\n",
    "print(y_test.shape)"
   ]
  },
  {
   "cell_type": "code",
   "execution_count": 37,
   "metadata": {},
   "outputs": [
    {
     "name": "stdout",
     "output_type": "stream",
     "text": [
      "Minimalistic Logistic Regression Model Accuracy Score: 0.841\n",
      "\n"
     ]
    }
   ],
   "source": [
    "lr_3 = LogisticRegression(C= C_op,random_state=0)\n",
    "\n",
    "lr_3.fit(X_train, y_train)\n",
    "\n",
    "print(\"Minimalistic Logistic Regression Model Accuracy Score: {:.3f}\".format(lr_3.score(X_test, y_test)))\n",
    "print()"
   ]
  },
  {
   "cell_type": "markdown",
   "metadata": {},
   "source": [
    "## Confusion Matrix for Minimalistic Logistic Regression model"
   ]
  },
  {
   "cell_type": "code",
   "execution_count": 38,
   "metadata": {},
   "outputs": [
    {
     "data": {
      "text/plain": [
       "Text(0.5, 1.0, 'Confusion Matrix for Model with 6 Predictors')"
      ]
     },
     "execution_count": 38,
     "metadata": {},
     "output_type": "execute_result"
    },
    {
     "data": {
      "image/png": "[encoded data removed]",
      "text/plain": [
       "<Figure size 576x576 with 1 Axes>"
      ]
     },
     "metadata": {
      "needs_background": "light"
     },
     "output_type": "display_data"
    }
   ],
   "source": [
    "# Generate Confusion Matrix for Model\n",
    "actual_2 = y_test\n",
    "predictions_2 = lr_3.predict(X_test)\n",
    "\n",
    "cm_2 = confusion_matrix(actual_2,predictions_2)\n",
    "\n",
    "# plot the matrix\n",
    "plt.figure(figsize=(8,8))\n",
    "sns.heatmap(cm_2, annot=True, fmt=\".0f\", linewidths=.5, square = True, cmap = 'Blues_r',cbar=None);\n",
    "\n",
    "plt.ylabel('Actual label',fontsize=18,fontweight='bold');\n",
    "plt.xlabel('Predicted label',fontsize=18, fontweight='bold');\n",
    "plt.title('Confusion Matrix for Model with 6 Predictors', fontsize = 18,fontweight='bold')"
   ]
  },
  {
   "cell_type": "markdown",
   "metadata": {},
   "source": [
    "### You can build a Logistic Regression Model using only 6 numerical features to predict rain tomorrow and achieve accuracy of  ~84%"
   ]
  },
  {
   "cell_type": "markdown",
   "metadata": {},
   "source": [
    "### ROC Curve"
   ]
  },
  {
   "cell_type": "code",
   "execution_count": 39,
   "metadata": {},
   "outputs": [],
   "source": [
    "# https://machinelearningmastery.com/roc-curves-and-precision-recall-curves-for-classification-in-python/\n",
    "# predict probabilities\n",
    "lr_probs = lr_3.predict_proba(X_test)\n",
    "# keep probabilities for the positive outcome only\n",
    "lr_probs = lr_probs[:, 1]"
   ]
  },
  {
   "cell_type": "code",
   "execution_count": 40,
   "metadata": {},
   "outputs": [
    {
     "name": "stdout",
     "output_type": "stream",
     "text": [
      "Logistic Regression: ROC AUC=0.836\n"
     ]
    }
   ],
   "source": [
    "lr_auc = roc_auc_score(y_test, lr_probs)\n",
    "print('Logistic Regression: ROC AUC=%.3f' % (lr_auc))"
   ]
  },
  {
   "cell_type": "markdown",
   "metadata": {},
   "source": [
    "### area under curve (AUC) score for this logistic regression model using only 6 numerical predictors is 0.84"
   ]
  },
  {
   "cell_type": "code",
   "execution_count": 41,
   "metadata": {},
   "outputs": [
    {
     "name": "stdout",
     "output_type": "stream",
     "text": [
      "No Skill: ROC AUC=0.500\n"
     ]
    }
   ],
   "source": [
    "# no skill model: always predicts no rain,0\n",
    "# generate a no skill prediction (majority class)\n",
    "ns_probs = [0 for _ in range(len(y_test))]\n",
    "ns_auc = roc_auc_score(y_test, ns_probs)\n",
    "print('No Skill: ROC AUC=%.3f' % (ns_auc))"
   ]
  },
  {
   "cell_type": "code",
   "execution_count": 42,
   "metadata": {},
   "outputs": [
    {
     "data": {
      "text/plain": [
       "<matplotlib.legend.Legend at 0x7fccd52a37f0>"
      ]
     },
     "execution_count": 42,
     "metadata": {},
     "output_type": "execute_result"
    },
    {
     "data": {
      "image/png": "[encoded data removed]",
      "text/plain": [
       "<Figure size 432x432 with 1 Axes>"
      ]
     },
     "metadata": {
      "needs_background": "light"
     },
     "output_type": "display_data"
    }
   ],
   "source": [
    "# calculate roc curves\n",
    "# https://www.kaggle.com/mnassrib/titanic-logistic-regression-with-python\n",
    "ns_fpr, ns_tpr, _ = roc_curve(y_test, ns_probs)\n",
    "lr_fpr, lr_tpr, _ = roc_curve(y_test, lr_probs)\n",
    "\n",
    "fig, ax = plt.subplots(figsize=(6,6))\n",
    "for axis in ['top','bottom','left','right']:\n",
    "    ax.spines[axis].set_linewidth(2.5)\n",
    "# plot the roc curve for the model\n",
    "plt.plot(ns_fpr, ns_tpr, linestyle='--', label='No Skill')\n",
    "plt.plot(lr_fpr, lr_tpr, marker='.', label='Logistic')\n",
    "plt.xlim([0.0, 1.0])\n",
    "plt.ylim([0.0, 1.05])\n",
    "plt.xlabel('False Positive Rate (1 - specificity)', fontsize=14,fontweight='bold')\n",
    "plt.ylabel('True Positive Rate (recall)', fontsize=14,fontweight='bold')\n",
    "plt.title('Receiver operating characteristic (ROC) curve',fontsize=15,fontweight='bold')\n",
    "plt.legend(loc=\"lower right\")"
   ]
  },
  {
   "cell_type": "markdown",
   "metadata": {},
   "source": [
    "### K Fold Cross Validation"
   ]
  },
  {
   "cell_type": "code",
   "execution_count": 44,
   "metadata": {},
   "outputs": [],
   "source": [
    "# create a mininmalistic Logistic Regression model with few features to predict rain tomorrow\n",
    "#my_cols = ['Humidity3pm','Humidity9am','WindGustSpeed', 'Rainfall','Pressure9am']\n",
    "my_cols = ['Humidity3pm','Humidity9am','WindGustSpeed', 'Rainfall','Pressure9am','Pressure3pm']\n",
    "#my_cols = ['Humidity3pm','Humidity9am','Rainfall']\n",
    "#my_cols = ['Humidity3pm','Rainfall']\n",
    "X2 = df[my_cols]\n",
    "y = df['RainTomorrow']"
   ]
  },
  {
   "cell_type": "code",
   "execution_count": 45,
   "metadata": {},
   "outputs": [],
   "source": [
    "# split the data into training & test data with test size = 20%\n",
    "X_train, X_test, y_train, y_test = train_test_split(X2, y,test_size=0.20, random_state=4)"
   ]
  },
  {
   "cell_type": "code",
   "execution_count": 46,
   "metadata": {},
   "outputs": [
    {
     "name": "stdout",
     "output_type": "stream",
     "text": [
      "Accuracy: 0.841 (0.002)\n"
     ]
    }
   ],
   "source": [
    "# https://machinelearningmastery.com/repeated-k-fold-cross-validation-with-python/\n",
    "\n",
    "# prepare the cross-validation procedure\n",
    "cv = KFold(n_splits=5, random_state=1, shuffle=True)\n",
    "# create model\n",
    "model = LogisticRegression(C= C_op,random_state=0)\n",
    "# evaluate model\n",
    "scores = cross_val_score(model, X2, y, scoring='accuracy', cv=cv, n_jobs=-1)\n",
    "# report performance\n",
    "print('Accuracy: %.3f (%.3f)' % (np.mean(scores), np.std(scores)))\n"
   ]
  },
  {
   "cell_type": "code",
   "execution_count": 47,
   "metadata": {},
   "outputs": [
    {
     "name": "stdout",
     "output_type": "stream",
     "text": [
      "[0.84432116 0.83995136 0.84230725 0.8391534  0.84135127]\n"
     ]
    }
   ],
   "source": [
    "print(scores)"
   ]
  },
  {
   "cell_type": "markdown",
   "metadata": {},
   "source": [
    "### statsmodel Logistic Regression"
   ]
  },
  {
   "cell_type": "code",
   "execution_count": 48,
   "metadata": {},
   "outputs": [],
   "source": [
    "# https://www.datasklr.com/logistic-regression/multinomial-logistic-regression\n",
    "# statsmodel Logistic Regression\n",
    "import statsmodels.api as sm"
   ]
  },
  {
   "cell_type": "code",
   "execution_count": 49,
   "metadata": {},
   "outputs": [
    {
     "name": "stdout",
     "output_type": "stream",
     "text": [
      "Optimization terminated successfully.\n",
      "         Current function value: 0.387574\n",
      "         Iterations 7\n",
      "                           Logit Regression Results                           \n",
      "==============================================================================\n",
      "Dep. Variable:           RainTomorrow   No. Observations:               105267\n",
      "Model:                          Logit   Df Residuals:                   105261\n",
      "Method:                           MLE   Df Model:                            5\n",
      "Date:                Wed, 17 Nov 2021   Pseudo R-squ.:                  0.2369\n",
      "Time:                        13:08:38   Log-Likelihood:                -40799.\n",
      "converged:                       True   LL-Null:                       -53465.\n",
      "Covariance Type:            nonrobust   LLR p-value:                     0.000\n",
      "=================================================================================\n",
      "                    coef    std err          z      P>|z|      [0.025      0.975]\n",
      "---------------------------------------------------------------------------------\n",
      "Humidity3pm       5.7461      0.062     93.090      0.000       5.625       5.867\n",
      "Humidity9am      -0.7680      0.063    -12.104      0.000      -0.892      -0.644\n",
      "WindGustSpeed     0.6670      0.043     15.615      0.000       0.583       0.751\n",
      "Rainfall          1.6445      0.055     29.997      0.000       1.537       1.752\n",
      "Pressure9am       1.1778      0.249      4.725      0.000       0.689       1.666\n",
      "Pressure3pm      -7.9019      0.255    -31.022      0.000      -8.401      -7.403\n",
      "=================================================================================\n"
     ]
    }
   ],
   "source": [
    "model = sm.Logit(y_train, X_train)\n",
    "model_fit = model.fit()\n",
    "\n",
    "print(model_fit.summary())"
   ]
  },
  {
   "cell_type": "code",
   "execution_count": 50,
   "metadata": {},
   "outputs": [
    {
     "name": "stdout",
     "output_type": "stream",
     "text": [
      "Optimization terminated successfully.\n",
      "         Current function value: 0.370999\n",
      "         Iterations 7\n",
      "                           Logit Regression Results                           \n",
      "==============================================================================\n",
      "Dep. Variable:           RainTomorrow   No. Observations:               105267\n",
      "Model:                          Logit   Df Residuals:                   105260\n",
      "Method:                           MLE   Df Model:                            6\n",
      "Date:                Wed, 17 Nov 2021   Pseudo R-squ.:                  0.2695\n",
      "Time:                        13:08:38   Log-Likelihood:                -39054.\n",
      "converged:                       True   LL-Null:                       -53465.\n",
      "Covariance Type:            nonrobust   LLR p-value:                     0.000\n",
      "=================================================================================\n",
      "                    coef    std err          z      P>|z|      [0.025      0.975]\n",
      "---------------------------------------------------------------------------------\n",
      "const            -4.8692      0.085    -57.087      0.000      -5.036      -4.702\n",
      "Humidity3pm       6.2333      0.064     97.415      0.000       6.108       6.359\n",
      "Humidity9am       0.8830      0.071     12.392      0.000       0.743       1.023\n",
      "WindGustSpeed     2.8155      0.057     49.048      0.000       2.703       2.928\n",
      "Rainfall          1.4135      0.055     25.644      0.000       1.305       1.521\n",
      "Pressure9am       5.7349      0.267     21.486      0.000       5.212       6.258\n",
      "Pressure3pm      -9.0442      0.261    -34.707      0.000      -9.555      -8.533\n",
      "=================================================================================\n"
     ]
    }
   ],
   "source": [
    "# include an intercept with the fitting \n",
    "model2 = sm.Logit(y_train,sm.add_constant(X_train))\n",
    "model2_fit = model2.fit()\n",
    "\n",
    "print(model2_fit.summary())"
   ]
  },
  {
   "cell_type": "markdown",
   "metadata": {},
   "source": [
    "### The p-values for all 6 predictor variables are less than 0.05 : \n",
    "### there is a statistically significant association between the target variable, RainTomorrow\n",
    "### and each predictor variable."
   ]
  },
  {
   "cell_type": "markdown",
   "metadata": {},
   "source": [
    "#### The predictor variables Humidity3pm, Humidity9am, WindGustSpeed, Rainfall, Pressure9am, Pressure3pm\n",
    "####  are useful in predicting Rain Tomorrow"
   ]
  },
  {
   "cell_type": "code",
   "execution_count": 51,
   "metadata": {},
   "outputs": [
    {
     "name": "stdout",
     "output_type": "stream",
     "text": [
      "const           -4.869230\n",
      "Humidity3pm      6.233332\n",
      "Humidity9am      0.882989\n",
      "WindGustSpeed    2.815485\n",
      "Rainfall         1.413455\n",
      "Pressure9am      5.734931\n",
      "Pressure3pm     -9.044243\n",
      "dtype: float64\n",
      "<class 'pandas.core.series.Series'>\n",
      "Index(['const', 'Humidity3pm', 'Humidity9am', 'WindGustSpeed', 'Rainfall',\n",
      "       'Pressure9am', 'Pressure3pm'],\n",
      "      dtype='object')\n"
     ]
    }
   ],
   "source": [
    "print(model2_fit.params)\n",
    "print(type(model2_fit.params))\n",
    "print(model2_fit.params.index)\n"
   ]
  },
  {
   "cell_type": "markdown",
   "metadata": {},
   "source": [
    "### Interpreting Logistic Regression model coefficients"
   ]
  },
  {
   "cell_type": "markdown",
   "metadata": {},
   "source": [
    "### Each coefficient measures how an increase of each feature by one unit affects the log of odds"
   ]
  },
  {
   "cell_type": "markdown",
   "metadata": {},
   "source": [
    "### Exponentiate each coefficient to determine how the odds changes with an increase of one unit for each feature"
   ]
  },
  {
   "cell_type": "code",
   "execution_count": 52,
   "metadata": {},
   "outputs": [
    {
     "name": "stdout",
     "output_type": "stream",
     "text": [
      "0.007679276937603981\n",
      "509.45020170173984\n",
      "2.4181175226916993\n",
      "16.701280713438894\n",
      "4.110132797586861\n",
      "309.49156972846475\n",
      "0.00011806879908830564\n"
     ]
    }
   ],
   "source": [
    "# calculate exp of each param to obtain the ratio of odds, p/1 -p ,for each param\n",
    "for item in model2_fit.params:\n",
    "    print(np.exp(item))"
   ]
  },
  {
   "cell_type": "markdown",
   "metadata": {},
   "source": [
    "### for an increase of humidity at 3pm by one unit, the odds for rain increases by 507"
   ]
  },
  {
   "cell_type": "code",
   "execution_count": 53,
   "metadata": {},
   "outputs": [
    {
     "name": "stdout",
     "output_type": "stream",
     "text": [
      "507.7554834957885\n"
     ]
    }
   ],
   "source": [
    "# https://sweetcode.io/easy-scikit-logistic-regression/\n",
    "# Interpretation of the Humidity3pm coefficient\n",
    "print((np.exp(-4.86)+np.exp(6.23*41)) / (np.exp(-4.86)+np.exp(6.23*40)))"
   ]
  },
  {
   "cell_type": "markdown",
   "metadata": {},
   "source": [
    "### for an increase of one unit of humidity at 9 am the odds for rain increases by 2.4"
   ]
  },
  {
   "cell_type": "code",
   "execution_count": 54,
   "metadata": {},
   "outputs": [
    {
     "name": "stdout",
     "output_type": "stream",
     "text": [
      "2.410899706417199\n"
     ]
    }
   ],
   "source": [
    "# Interpretation of the Humidity9am coefficient\n",
    "print((np.exp(-4.86)+np.exp(0.88*41)) / (np.exp(-4.86)+np.exp(0.88*40)))"
   ]
  },
  {
   "cell_type": "markdown",
   "metadata": {},
   "source": [
    "### for each increase of one unit of wind gust speed the odds for rain increases by 16.7"
   ]
  },
  {
   "cell_type": "code",
   "execution_count": 57,
   "metadata": {},
   "outputs": [
    {
     "name": "stdout",
     "output_type": "stream",
     "text": [
      "16.693175780331273\n"
     ]
    }
   ],
   "source": [
    "# Interpretation of the WindGustSpeed coefficient\n",
    "print((np.exp(-4.86)+np.exp(2.815*41)) / (np.exp(-4.86)+np.exp(2.815*40)))"
   ]
  },
  {
   "cell_type": "code",
   "execution_count": null,
   "metadata": {},
   "outputs": [],
   "source": []
  }
 ],
 "metadata": {
  "kernelspec": {
   "display_name": "Python 3",
   "language": "python",
   "name": "python3"
  },
  "language_info": {
   "codemirror_mode": {
    "name": "ipython",
    "version": 3
   },
   "file_extension": ".py",
   "mimetype": "text/x-python",
   "name": "python",
   "nbconvert_exporter": "python",
   "pygments_lexer": "ipython3",
   "version": "3.6.10"
  }
 },
 "nbformat": 4,
 "nbformat_minor": 4
}
